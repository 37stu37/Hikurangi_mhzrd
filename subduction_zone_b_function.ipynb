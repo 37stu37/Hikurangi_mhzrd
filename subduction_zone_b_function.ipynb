{
  "nbformat": 4,
  "nbformat_minor": 0,
  "metadata": {
    "colab": {
      "name": "subduction_zone_b_function.ipynb",
      "provenance": [],
      "collapsed_sections": [],
      "authorship_tag": "ABX9TyMYu5g7V7nSfe0/VJyaruyP",
      "include_colab_link": true
    },
    "kernelspec": {
      "name": "python3",
      "display_name": "Python 3"
    }
  },
  "cells": [
    {
      "cell_type": "markdown",
      "metadata": {
        "id": "view-in-github",
        "colab_type": "text"
      },
      "source": [
        "<a href=\"https://colab.research.google.com/github/37stu37/Hikurangi_mhzrd/blob/master/subduction_zone_b_function.ipynb\" target=\"_parent\"><img src=\"https://colab.research.google.com/assets/colab-badge.svg\" alt=\"Open In Colab\"/></a>"
      ]
    },
    {
      "cell_type": "markdown",
      "metadata": {
        "id": "QDb_OjP56Ww7",
        "colab_type": "text"
      },
      "source": [
        "Added to Github !!!!!!!!"
      ]
    },
    {
      "cell_type": "code",
      "metadata": {
        "id": "0PipQ4HNTjKW",
        "colab_type": "code",
        "outputId": "3d435201-d764-4122-f8e3-fd274db3ec2a",
        "colab": {
          "base_uri": "https://localhost:8080/",
          "height": 139
        }
      },
      "source": [
        "# Load the Drive helper and mount\n",
        "from google.colab import drive\n",
        "%tensorflow_version 2.x\n",
        "# This will prompt for authorization.\n",
        "drive.mount('/content/drive')"
      ],
      "execution_count": 0,
      "outputs": [
        {
          "output_type": "stream",
          "text": [
            "TensorFlow 2.x selected.\n",
            "Go to this URL in a browser: https://accounts.google.com/o/oauth2/auth?client_id=947318989803-6bn6qk8qdgf4n4g3pfee6491hc0brc4i.apps.googleusercontent.com&redirect_uri=urn%3aietf%3awg%3aoauth%3a2.0%3aoob&response_type=code&scope=email%20https%3a%2f%2fwww.googleapis.com%2fauth%2fdocs.test%20https%3a%2f%2fwww.googleapis.com%2fauth%2fdrive%20https%3a%2f%2fwww.googleapis.com%2fauth%2fdrive.photos.readonly%20https%3a%2f%2fwww.googleapis.com%2fauth%2fpeopleapi.readonly\n",
            "\n",
            "Enter your authorization code:\n",
            "··········\n",
            "Mounted at /content/drive\n"
          ],
          "name": "stdout"
        }
      ]
    },
    {
      "cell_type": "code",
      "metadata": {
        "id": "lDjyv3bX7k2H",
        "colab_type": "code",
        "colab": {}
      },
      "source": [
        "import os\n",
        "import pandas as pd\n",
        "import numpy as np\n",
        "import glob\n",
        "import matplotlib.pyplot as plt\n",
        "import seaborn as sns"
      ],
      "execution_count": 0,
      "outputs": []
    },
    {
      "cell_type": "code",
      "metadata": {
        "id": "mDNJfw1u9wei",
        "colab_type": "code",
        "outputId": "763891af-afc5-430f-9f0a-fc16e469d7fc",
        "colab": {
          "base_uri": "https://localhost:8080/",
          "height": 102
        }
      },
      "source": [
        "path = \"/content/drive/My Drive/04_Cloud/01_Work/GNS/SSIF_2019/6 Flagship_Hikurangi/tsunami_bathtub_model\"\n",
        "!ls \"/content/drive/My Drive/04_Cloud/01_Work/GNS/SSIF_2019/6 Flagship_Hikurangi/tsunami_bathtub_model\""
      ],
      "execution_count": 0,
      "outputs": [
        {
          "output_type": "stream",
          "text": [
            " Berryman_et_al_2015_Subduction.docx\t 'Power 2013-Tsunami Report 2013.pdf'\n",
            " BTable_20km_Hpct99_27June2019.csv\t  sigBTable_20km_Hpct99_27June2019.csv\n",
            " coastal_sections_20km_coord.txt\t  SubductionSources_27June2019.xls\n",
            " dgl-08-16-Tsunami-Evacuation-Zones.pdf   subduction_zone_b_function.ipynb\n",
            " Header2_P20k_Hpct99ThreatLevel.csv\t  ZonesPlots\n"
          ],
          "name": "stdout"
        }
      ]
    },
    {
      "cell_type": "code",
      "metadata": {
        "id": "Ud9DS-X8-Xft",
        "colab_type": "code",
        "colab": {}
      },
      "source": [
        "earthquake = pd.read_excel(os.path.join(path, \"SubductionSources_27June2019.xls\"))\n",
        "tsunami = pd.read_csv(os.path.join(path, \"BTable_20km_Hpct99_27June2019.csv\"))"
      ],
      "execution_count": 0,
      "outputs": []
    },
    {
      "cell_type": "code",
      "metadata": {
        "id": "Na-d00OhAa2n",
        "colab_type": "code",
        "outputId": "46561dba-ab13-4e90-85af-310ea8d74581",
        "colab": {
          "base_uri": "https://localhost:8080/",
          "height": 297
        }
      },
      "source": [
        "# Earthquake b-value distribution\n",
        "x = np.arange(0, 11, 1)\n",
        "fig, ax = plt.subplots(nrows=2)\n",
        "for index, row in earthquake.iterrows():\n",
        "  ax[0].plot(x, 10**(-(row.iloc[-3])*x), c='red', linewidth=1, label=row.UID)\n",
        "  # ax[0].set_yscale(\"log\")\n",
        "  ax[0].set_xlabel('Mw')\n",
        "  ax[0].set_ylabel('Probability?')\n",
        "  plt.tight_layout()\n",
        "  for col in tsunami.columns:\n",
        "    # for index, row in tsunami.iterrows():\n",
        "        ax[1].plot(x, 10**(x-np.mean(tsunami[col])), c='blue')\n",
        "        # ax[1].set_yscale(\"log\")\n",
        "        ax[1].set_xlabel('Mw')\n",
        "        ax[1].set_ylabel('Ht')\n",
        "        plt.tight_layout()"
      ],
      "execution_count": 0,
      "outputs": [
        {
          "output_type": "display_data",
          "data": {
            "image/png": "[encoded data removed]",
            "text/plain": [
              "<Figure size 432x288 with 2 Axes>"
            ]
          },
          "metadata": {
            "tags": []
          }
        }
      ]
    },
    {
      "cell_type": "code",
      "metadata": {
        "id": "KGRobyayJHPm",
        "colab_type": "code",
        "colab": {}
      },
      "source": [
        "# Associated Tsunami distribution\n",
        "for col in tsunami.columns:\n",
        "  sns.distplot(tsunami[col])"
      ],
      "execution_count": 0,
      "outputs": []
    },
    {
      "cell_type": "code",
      "metadata": {
        "id": "7MekrWWvSO2j",
        "colab_type": "code",
        "colab": {}
      },
      "source": [
        ""
      ],
      "execution_count": 0,
      "outputs": []
    }
  ]
}