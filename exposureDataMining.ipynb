{
 "cells": [
  {
   "cell_type": "code",
   "execution_count": 2,
   "metadata": {
    "ExecuteTime": {
     "end_time": "2020-09-08T23:42:03.315028Z",
     "start_time": "2020-09-08T23:41:56.032565Z"
    }
   },
   "outputs": [],
   "source": [
    "from pathlib import Path\n",
    "import os\n",
    "from datetime import date\n",
    "import re\n",
    "import glob\n",
    "from tqdm.notebook import tqdm\n",
    "import pandas as pd\n",
    "import numpy as np\n",
    "import geopandas as gpd\n",
    "from shapely.geometry import box\n",
    "import dask.dataframe as dd\n",
    "pd.options.mode.chained_assignment = None"
   ]
  },
  {
   "cell_type": "code",
   "execution_count": 3,
   "metadata": {
    "ExecuteTime": {
     "end_time": "2020-09-08T23:42:03.362324Z",
     "start_time": "2020-09-08T23:42:03.346193Z"
    }
   },
   "outputs": [
    {
     "data": {
      "text/plain": [
       "['RiskScape_Bldg_attributes.xlsx',\n",
       " 'HB RKS Asset Model.pptx',\n",
       " 'HB_BLDG_POP_final.csv']"
      ]
     },
     "execution_count": 3,
     "metadata": {},
     "output_type": "execute_result"
    }
   ],
   "source": [
    "dataFolder = Path('/Users/alex/Dropbox/Work/GNS/SSIF/6 Flagship_Hikurangi/PilotStudy2020_2021/Exposure/Exposure Development/HB Liquefaction_2016/building & people')\n",
    "os.listdir(dataFolder)"
   ]
  },
  {
   "cell_type": "code",
   "execution_count": 7,
   "metadata": {
    "ExecuteTime": {
     "end_time": "2020-09-08T23:47:13.912802Z",
     "start_time": "2020-09-08T23:47:13.602381Z"
    }
   },
   "outputs": [
    {
     "name": "stdout",
     "output_type": "stream",
     "text": [
      "<class 'pandas.core.frame.DataFrame'>\n",
      "RangeIndex: 91392 entries, 0 to 91391\n",
      "Data columns (total 28 columns):\n",
      " #   Column      Non-Null Count  Dtype  \n",
      "---  ------      --------------  -----  \n",
      " 0   BLDG_ID     91392 non-null  int64  \n",
      " 1   NZMGE       91392 non-null  float64\n",
      " 2   NZMGN       91392 non-null  float64\n",
      " 3   BLD_QUAL_N  91392 non-null  int64  \n",
      " 4   CONST_TYPE  91392 non-null  int64  \n",
      " 5   CNTS_VAL_T  91392 non-null  int64  \n",
      " 6   CNTS_VAL_R  91392 non-null  int64  \n",
      " 7   CNTS_VAL_F  91392 non-null  int64  \n",
      " 8   NZDEP06     91392 non-null  int64  \n",
      " 9   EMPL_DAILY  91392 non-null  int64  \n",
      " 10  FLOOR_AREA  91392 non-null  float64\n",
      " 11  FLOOR_HEIG  91392 non-null  float64\n",
      " 12  FLOOR_TYPE  91392 non-null  int64  \n",
      " 13  FOOTPRINT_  91392 non-null  float64\n",
      " 14  OCC_DT      91392 non-null  int64  \n",
      " 15  OCC_NT      91392 non-null  int64  \n",
      " 16  PARAPET_NO  91392 non-null  int64  \n",
      " 17  REPLACMENT  91392 non-null  int64  \n",
      " 18  ROOF_CLAD_  91392 non-null  int64  \n",
      " 19  ROOF_PITCH  91392 non-null  int64  \n",
      " 20  STOREYS     91392 non-null  float64\n",
      " 21  USE_CAT_NO  91392 non-null  int64  \n",
      " 22  CAR_VAL_DA  91392 non-null  int64  \n",
      " 23  CAR_VAL_NI  91392 non-null  int64  \n",
      " 24  CAR_NO_DAY  91392 non-null  int64  \n",
      " 25  CAR_NO_NIG  91392 non-null  int64  \n",
      " 26  WALL_CLAD_  91392 non-null  int64  \n",
      " 27  YEAR_CONST  91392 non-null  int64  \n",
      "dtypes: float64(6), int64(22)\n",
      "memory usage: 19.5 MB\n"
     ]
    }
   ],
   "source": [
    "exposure = pd.read_csv(dataFolder / 'HB_BLDG_POP_final.csv')\n",
    "exposure.info()"
   ]
  },
  {
   "cell_type": "code",
   "execution_count": 14,
   "metadata": {
    "ExecuteTime": {
     "end_time": "2020-09-08T23:50:58.798117Z",
     "start_time": "2020-09-08T23:50:58.789358Z"
    }
   },
   "outputs": [
    {
     "name": "stdout",
     "output_type": "stream",
     "text": [
      "<class 'str'>\n",
      "<class 'str'>\n",
      "<class 'str'>\n",
      "<class 'str'>\n",
      "<class 'str'>\n",
      "<class 'str'>\n",
      "<class 'str'>\n",
      "<class 'str'>\n",
      "<class 'str'>\n",
      "<class 'str'>\n",
      "<class 'str'>\n",
      "<class 'str'>\n",
      "<class 'str'>\n",
      "<class 'str'>\n",
      "<class 'str'>\n",
      "<class 'str'>\n",
      "<class 'str'>\n",
      "<class 'str'>\n",
      "<class 'str'>\n",
      "<class 'str'>\n",
      "<class 'str'>\n",
      "<class 'str'>\n",
      "<class 'str'>\n",
      "<class 'str'>\n",
      "<class 'str'>\n",
      "<class 'str'>\n",
      "<class 'str'>\n",
      "<class 'str'>\n"
     ]
    }
   ],
   "source": [
    "for c in exposure.columns:\n",
    "    exposure[c].plot()"
   ]
  },
  {
   "cell_type": "code",
   "execution_count": null,
   "metadata": {},
   "outputs": [],
   "source": []
  }
 ],
 "metadata": {
  "kernelspec": {
   "display_name": "Python 3",
   "language": "python",
   "name": "python3"
  },
  "language_info": {
   "codemirror_mode": {
    "name": "ipython",
    "version": 3
   },
   "file_extension": ".py",
   "mimetype": "text/x-python",
   "name": "python",
   "nbconvert_exporter": "python",
   "pygments_lexer": "ipython3",
   "version": "3.7.3"
  },
  "varInspector": {
   "cols": {
    "lenName": 16,
    "lenType": 16,
    "lenVar": 40
   },
   "kernels_config": {
    "python": {
     "delete_cmd_postfix": "",
     "delete_cmd_prefix": "del ",
     "library": "var_list.py",
     "varRefreshCmd": "print(var_dic_list())"
    },
    "r": {
     "delete_cmd_postfix": ") ",
     "delete_cmd_prefix": "rm(",
     "library": "var_list.r",
     "varRefreshCmd": "cat(var_dic_list()) "
    }
   },
   "types_to_exclude": [
    "module",
    "function",
    "builtin_function_or_method",
    "instance",
    "_Feature"
   ],
   "window_display": false
  }
 },
 "nbformat": 4,
 "nbformat_minor": 4
}
