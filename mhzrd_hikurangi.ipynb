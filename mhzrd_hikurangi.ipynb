{
  "nbformat": 4,
  "nbformat_minor": 0,
  "metadata": {
    "colab": {
      "name": "Untitled0.ipynb",
      "provenance": [],
      "authorship_tag": "ABX9TyM9pjcuLxHOBUM+/2mV7dNY",
      "include_colab_link": true
    },
    "kernelspec": {
      "name": "python3",
      "display_name": "Python 3"
    },
    "accelerator": "GPU"
  },
  "cells": [
    {
      "cell_type": "markdown",
      "metadata": {
        "id": "view-in-github",
        "colab_type": "text"
      },
      "source": [
        "<a href=\"https://colab.research.google.com/github/37stu37/Hikurangi_mhzrd/blob/master/mhzrd_hikurangi.ipynb\" target=\"_parent\"><img src=\"https://colab.research.google.com/assets/colab-badge.svg\" alt=\"Open In Colab\"/></a>"
      ]
    },
    {
      "cell_type": "code",
      "metadata": {
        "id": "0PipQ4HNTjKW",
        "colab_type": "code",
        "outputId": "eb8f843a-9fa4-42f7-829b-f598f86bb96a",
        "colab": {
          "base_uri": "https://localhost:8080/",
          "height": 34
        }
      },
      "source": [
        "# Load the Drive helper and mount\n",
        "from google.colab import drive\n",
        "\n",
        "# This will prompt for authorization.\n",
        "drive.mount('/content/drive')"
      ],
      "execution_count": 0,
      "outputs": [
        {
          "output_type": "stream",
          "text": [
            "Drive already mounted at /content/drive; to attempt to forcibly remount, call drive.mount(\"/content/drive\", force_remount=True).\n"
          ],
          "name": "stdout"
        }
      ]
    },
    {
      "cell_type": "code",
      "metadata": {
        "id": "w2mKdT8I0Wpu",
        "colab_type": "code",
        "colab": {}
      },
      "source": [
        "import pandas as pd\n",
        "import numpy as np\n",
        "import os\n",
        "import random"
      ],
      "execution_count": 0,
      "outputs": []
    },
    {
      "cell_type": "code",
      "metadata": {
        "id": "0u86LTRy0Ydr",
        "colab_type": "code",
        "colab": {}
      },
      "source": [
        "# raw data\n",
        "earthquake_csv = pd.read_excel('/content/drive/My Drive/04_Cloud/01_Work/GNS/SSIF_2019/6 Flagship_Hikurangi/tsunami_bathtub_model/SubductionSources_27June2019.xls')\n",
        "tsunami_csv = pd.read_csv('/content/drive/My Drive/04_Cloud/01_Work/GNS/SSIF_2019/6 Flagship_Hikurangi/tsunami_bathtub_model/BTable_20km_Hpct99_27June2019.csv')\n",
        "\n",
        "earthquake_sources = earthquake_csv.UID.to_list()"
      ],
      "execution_count": 0,
      "outputs": []
    },
    {
      "cell_type": "code",
      "metadata": {
        "id": "ZeOg3DGh37Hn",
        "colab_type": "code",
        "colab": {}
      },
      "source": [
        "earthquake_csv.head(1)"
      ],
      "execution_count": 0,
      "outputs": []
    },
    {
      "cell_type": "code",
      "metadata": {
        "id": "c9d0mlRX5x97",
        "colab_type": "code",
        "colab": {}
      },
      "source": [
        "### test\n",
        "# for i in range(1):\n",
        "#   e = random.choice(earthquake_sources)\n",
        "#   print(type(e))"
      ],
      "execution_count": 0,
      "outputs": []
    },
    {
      "cell_type": "markdown",
      "metadata": {
        "id": "JaLRCQLkHOeo",
        "colab_type": "text"
      },
      "source": [
        "\n",
        "\n",
        "---\n",
        "\n",
        "Functions\n",
        "\n",
        "\n",
        "---\n",
        "\n",
        "\n"
      ]
    },
    {
      "cell_type": "code",
      "metadata": {
        "id": "tH6YnL0a-Mi7",
        "colab_type": "code",
        "colab": {}
      },
      "source": [
        "class Earthquake:\n",
        "\n",
        "    def __init__(self, name):\n",
        "        self.name = name\n",
        "\n",
        "    def EarthquakeSource():\n",
        "        # select a source area to trigger a rupture\n",
        "        e = random.choice(earthquake_sources)\n",
        "        # crop dataframe to the selected source\n",
        "        earthquake_df = earthquake_csv[['UID', 'B-value - pref', 'a-value']] # ! add \"a\" value later on\n",
        "        earthquake_df = earthquake_df[earthquake_df.UID = e]\n",
        "        # create the discrete frequency / magnitude distribution from the source selected\n",
        "        magnitudes = np.arange(0, 11, 0.1)\n",
        "        frequencies = 10**(earthquake_df['a_value']-(earthquake_df['B-value - pref']*magnitudes))\n",
        "        frequencies = frequencies / frequencies.sum() # make the probability of having an earthquake from 0 to 1\n",
        "        # select a random magnitude from the distribution \n",
        "        magnitude_RNG = np.random.choice(magnitudes, 1, p=frequencies)\n",
        "        # (back)find the recurrence time generated\n",
        "        for i in [i for i,x in enumerate(magnitudes) if x == magnitudes_RNG]:\n",
        "            rec_time = frequencies[i]\n",
        "        # create dictionary for the event v=created\n",
        "        uid = earthquake_df.UID\n",
        "        magnitude = magnitude_RNG[0]\n",
        "        rec_time = rec_time\n",
        "        # event_parameters = {'UID': earthquake_df.UID, 'Magnitude': magnitude_RNG[0], 'Recurrence_time': rec_time}\n",
        "        # return earthquake_parameters # use dict['Recurrence_time] to get the details from the earthquake generated\n",
        "\n",
        "\n",
        "\n",
        "\n",
        "def EarthquakeSource():\n",
        "    # select a source area to trigger a rupture\n",
        "    e = random.choice(earthquake_sources)\n",
        "    # crop dataframe to the selected source\n",
        "    earthquake_df = earthquake_csv[['UID', 'B-value - pref', 'a-value']] # ! add \"a\" value later on\n",
        "    earthquake_df = earthquake_df[earthquake_df.UID = e]\n",
        "    # create the discrete frequency / magnitude distribution from the source selected\n",
        "    magnitudes = np.arange(0, 11, 0.1)\n",
        "    frequencies = 10**(earthquake_df['a_value']-(earthquake_df['B-value - pref']*magnitudes))\n",
        "    frequencies = frequencies / frequencies.sum() # make the probability of having an earthquake from 0 to 1\n",
        "    # select a random magnitude from the distribution \n",
        "    magnitude_RNG = np.random.choice(magnitudes, 1, p=frequencies)\n",
        "    # (back)find the recurrence time generated\n",
        "    for i in [i for i,x in enumerate(magnitudes) if x == magnitudes_RNG]:\n",
        "        rec_time = frequencies[i]\n",
        "    # create dictionary for the event v=created\n",
        "    event_parameters = {'UID': earthquake_df.UID, 'Magnitude': magnitude_RNG[0], 'Recurrence_time': rec_time}\n",
        "    return earthquake_parameters # use dict['Recurrence_time] to get the details from the earthquake generated\n",
        "\n",
        "\n",
        "def EarthquakeShaking():\n",
        "    # get the details from the source earthquake\n"
      ],
      "execution_count": 0,
      "outputs": []
    },
    {
      "cell_type": "code",
      "metadata": {
        "id": "jbLUdsG8HTqf",
        "colab_type": "code",
        "colab": {}
      },
      "source": [
        "def Landslide():\n",
        "    # get the shaking at node location\n",
        "    # get the landslide suscpetibility\n",
        "    # sample from the area / volume relationship\n",
        "    # get a volume and runout + target node"
      ],
      "execution_count": 0,
      "outputs": []
    },
    {
      "cell_type": "code",
      "metadata": {
        "id": "2-nOSwSeHWrh",
        "colab_type": "code",
        "colab": {}
      },
      "source": [
        "def Tsunami():\n",
        "    # where is the source ?\n",
        "    # calculate Ht for all target areas (Bij) using the Earthquake Mw Ht = 10^Mw-Bij\n",
        "    # from the distance to shore value, calculate the Water depth Wd = (Ht*2) - (distance from shore in meters/400)"
      ],
      "execution_count": 0,
      "outputs": []
    },
    {
      "cell_type": "markdown",
      "metadata": {
        "id": "nWIWSvkjxl8X",
        "colab_type": "text"
      },
      "source": [
        "1) random selection of the source earthquake location & sampling of the probability / intensity distribution (N = 10^(a-bMw))\n",
        "\n",
        "2) generation of tsunami based on the Bij value (Ht = 10^(Mw-Bij) & calculation of depth of inundation (Htx2 - decay)"
      ]
    }
  ]
}