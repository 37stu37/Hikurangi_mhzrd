{
  "nbformat": 4,
  "nbformat_minor": 0,
  "metadata": {
    "colab": {
      "name": "Untitled0.ipynb",
      "provenance": [],
      "authorship_tag": "ABX9TyO5a4VL0xPYX8Os4z67lcN3",
      "include_colab_link": true
    },
    "kernelspec": {
      "name": "python3",
      "display_name": "Python 3"
    }
  },
  "cells": [
    {
      "cell_type": "markdown",
      "metadata": {
        "id": "view-in-github",
        "colab_type": "text"
      },
      "source": [
        "<a href=\"https://colab.research.google.com/github/37stu37/Hikurangi_mhzrd/blob/master/mhzrd_hikurangi.ipynb\" target=\"_parent\"><img src=\"https://colab.research.google.com/assets/colab-badge.svg\" alt=\"Open In Colab\"/></a>"
      ]
    },
    {
      "cell_type": "code",
      "metadata": {
        "id": "tH6YnL0a-Mi7",
        "colab_type": "code",
        "colab": {}
      },
      "source": [
        "import pandas as pd\n",
        "import numpy as np\n",
        "import os\n",
        "\n",
        "def Earthquake():\n",
        "    # select a source area to trigger an earthquake\n",
        "    # sample the probability magnitude relationship log(N) = a-bMw\n",
        "    # generate shaking from Openquake maps\n",
        "\n",
        "def Landslide():\n",
        "    # get the shaking at node location\n",
        "    # get the landslide suscpetibility\n",
        "    # sample from the area / volume relationship\n",
        "    # get a volume and runout + target node\n",
        "\n",
        "def Tsunami():\n",
        "    # where is the source ?\n",
        "    # calculate Ht for all target areas (Bij) using the Earthquake Mw Ht = 10^Mw-Bij\n",
        "    # from the distance to shore value, calculate the Water depth Wd = (Ht*2) - (distance from shore in meters/400)\n"
      ],
      "execution_count": 0,
      "outputs": []
    }
  ]
}