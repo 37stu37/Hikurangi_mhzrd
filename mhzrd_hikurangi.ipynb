{
  "nbformat": 4,
  "nbformat_minor": 0,
  "metadata": {
    "colab": {
      "name": "Untitled0.ipynb",
      "provenance": [],
      "authorship_tag": "ABX9TyPinBZzAaUfFSqB23FBaSAO",
      "include_colab_link": true
    },
    "kernelspec": {
      "name": "python3",
      "display_name": "Python 3"
    },
    "accelerator": "GPU"
  },
  "cells": [
    {
      "cell_type": "markdown",
      "metadata": {
        "id": "view-in-github",
        "colab_type": "text"
      },
      "source": [
        "<a href=\"https://colab.research.google.com/github/37stu37/Hikurangi_mhzrd/blob/master/mhzrd_hikurangi.ipynb\" target=\"_parent\"><img src=\"https://colab.research.google.com/assets/colab-badge.svg\" alt=\"Open In Colab\"/></a>"
      ]
    },
    {
      "cell_type": "code",
      "metadata": {
        "id": "0PipQ4HNTjKW",
        "colab_type": "code",
        "outputId": "6dbe72d6-d73e-406b-fafc-c3e5bb658b0b",
        "colab": {
          "base_uri": "https://localhost:8080/",
          "height": 122
        }
      },
      "source": [
        "# Load the Drive helper and mount\n",
        "from google.colab import drive\n",
        "\n",
        "# This will prompt for authorization.\n",
        "drive.mount('/content/drive')"
      ],
      "execution_count": 1,
      "outputs": [
        {
          "output_type": "stream",
          "text": [
            "Go to this URL in a browser: https://accounts.google.com/o/oauth2/auth?client_id=947318989803-6bn6qk8qdgf4n4g3pfee6491hc0brc4i.apps.googleusercontent.com&redirect_uri=urn%3aietf%3awg%3aoauth%3a2.0%3aoob&response_type=code&scope=email%20https%3a%2f%2fwww.googleapis.com%2fauth%2fdocs.test%20https%3a%2f%2fwww.googleapis.com%2fauth%2fdrive%20https%3a%2f%2fwww.googleapis.com%2fauth%2fdrive.photos.readonly%20https%3a%2f%2fwww.googleapis.com%2fauth%2fpeopleapi.readonly\n",
            "\n",
            "Enter your authorization code:\n",
            "··········\n",
            "Mounted at /content/drive\n"
          ],
          "name": "stdout"
        }
      ]
    },
    {
      "cell_type": "code",
      "metadata": {
        "id": "w2mKdT8I0Wpu",
        "colab_type": "code",
        "colab": {}
      },
      "source": [
        "import pandas as pd\n",
        "import numpy as np\n",
        "import os\n",
        "import random"
      ],
      "execution_count": 0,
      "outputs": []
    },
    {
      "cell_type": "code",
      "metadata": {
        "id": "0u86LTRy0Ydr",
        "colab_type": "code",
        "colab": {}
      },
      "source": [
        "# raw data\n",
        "earthquake_csv = pd.read_excel('/content/drive/My Drive/04_Cloud/01_Work/GNS/SSIF_2019/6 Flagship_Hikurangi/tsunami_bathtub_model/SubductionSources_27June2019.xls')\n",
        "tsunami_csv = pd.read_csv('/content/drive/My Drive/04_Cloud/01_Work/GNS/SSIF_2019/6 Flagship_Hikurangi/tsunami_bathtub_model/BTable_20km_Hpct99_27June2019.csv')\n",
        "# node_csv = pd.read_csv('/content/drive/My Drive/04_Cloud/01_Work/GNS/SSIF_2019/6 Flagship_Hikurangi/node.csv')\n",
        "earthquake_sources = earthquake_csv.UID.to_list()"
      ],
      "execution_count": 0,
      "outputs": []
    },
    {
      "cell_type": "code",
      "metadata": {
        "id": "ZeOg3DGh37Hn",
        "colab_type": "code",
        "outputId": "bebe760b-55aa-40a0-fda7-0303307a5603",
        "colab": {
          "base_uri": "https://localhost:8080/",
          "height": 185
        }
      },
      "source": [
        "earthquake_csv.head(1)"
      ],
      "execution_count": 4,
      "outputs": [
        {
          "output_type": "execute_result",
          "data": {
            "text/html": [
              "<div>\n",
              "<style scoped>\n",
              "    .dataframe tbody tr th:only-of-type {\n",
              "        vertical-align: middle;\n",
              "    }\n",
              "\n",
              "    .dataframe tbody tr th {\n",
              "        vertical-align: top;\n",
              "    }\n",
              "\n",
              "    .dataframe thead th {\n",
              "        text-align: right;\n",
              "    }\n",
              "</style>\n",
              "<table border=\"1\" class=\"dataframe\">\n",
              "  <thead>\n",
              "    <tr style=\"text-align: right;\">\n",
              "      <th></th>\n",
              "      <th>UID</th>\n",
              "      <th>Subduction Zone</th>\n",
              "      <th>Segment</th>\n",
              "      <th>Plate pairs</th>\n",
              "      <th>Left_E_LONG</th>\n",
              "      <th>Left_N_LAT</th>\n",
              "      <th>Left_REL_VEL</th>\n",
              "      <th>Left_REL_AZI</th>\n",
              "      <th>Right_E_LONG</th>\n",
              "      <th>Right_N_LAT</th>\n",
              "      <th>Right_REL_VEL</th>\n",
              "      <th>Right_REL_AZI</th>\n",
              "      <th>Length (km)</th>\n",
              "      <th>Dip - pref</th>\n",
              "      <th>Dip direction</th>\n",
              "      <th>Trench depth</th>\n",
              "      <th>Updip_pref</th>\n",
              "      <th>Updip_min</th>\n",
              "      <th>Updip_max</th>\n",
              "      <th>Down-dip depth - pref</th>\n",
              "      <th>Down-dip depth - min</th>\n",
              "      <th>Down-dip depth - max</th>\n",
              "      <th>Width - pref</th>\n",
              "      <th>Width - min</th>\n",
              "      <th>Width - max</th>\n",
              "      <th>Coupling coefficient - pref</th>\n",
              "      <th>Coupling coefficient - min</th>\n",
              "      <th>Coupling coefficient - max</th>\n",
              "      <th>SED (whole seg, m)</th>\n",
              "      <th>SED sigma</th>\n",
              "      <th>Mmax - pref</th>\n",
              "      <th>Mmax - min</th>\n",
              "      <th>Mmax - max</th>\n",
              "      <th>B-value - pref</th>\n",
              "      <th>B-value - min</th>\n",
              "      <th>B-value - max</th>\n",
              "    </tr>\n",
              "  </thead>\n",
              "  <tbody>\n",
              "    <tr>\n",
              "      <th>0</th>\n",
              "      <td>AK_D_Alaska_Whole</td>\n",
              "      <td>Alaska/Aleutians</td>\n",
              "      <td>Whole margin</td>\n",
              "      <td>PA\\NA</td>\n",
              "      <td>164.066</td>\n",
              "      <td>55.209</td>\n",
              "      <td>74.6</td>\n",
              "      <td>311</td>\n",
              "      <td>-140.128</td>\n",
              "      <td>60.381</td>\n",
              "      <td>49.0</td>\n",
              "      <td>350</td>\n",
              "      <td>4130</td>\n",
              "      <td>14</td>\n",
              "      <td>NaN</td>\n",
              "      <td>6.0</td>\n",
              "      <td>12.0</td>\n",
              "      <td>6.0</td>\n",
              "      <td>24.0</td>\n",
              "      <td>40</td>\n",
              "      <td>26</td>\n",
              "      <td>48</td>\n",
              "      <td>122</td>\n",
              "      <td>30</td>\n",
              "      <td>192</td>\n",
              "      <td>0.55</td>\n",
              "      <td>0.42</td>\n",
              "      <td>0.77</td>\n",
              "      <td>NaN</td>\n",
              "      <td>NaN</td>\n",
              "      <td>9.4</td>\n",
              "      <td>9.2</td>\n",
              "      <td>9.6</td>\n",
              "      <td>0.93</td>\n",
              "      <td>0.67</td>\n",
              "      <td>1.2</td>\n",
              "    </tr>\n",
              "  </tbody>\n",
              "</table>\n",
              "</div>"
            ],
            "text/plain": [
              "                 UID    Subduction Zone  ... B-value - min B-value - max\n",
              "0  AK_D_Alaska_Whole  Alaska/Aleutians   ...          0.67           1.2\n",
              "\n",
              "[1 rows x 36 columns]"
            ]
          },
          "metadata": {
            "tags": []
          },
          "execution_count": 4
        }
      ]
    },
    {
      "cell_type": "code",
      "metadata": {
        "id": "c9d0mlRX5x97",
        "colab_type": "code",
        "colab": {}
      },
      "source": [
        "### test sampling random earthquake\n",
        "# for i in range(1):\n",
        "#   e = random.choice(earthquake_sources)\n",
        "#   print(type(e))"
      ],
      "execution_count": 0,
      "outputs": []
    },
    {
      "cell_type": "markdown",
      "metadata": {
        "id": "JaLRCQLkHOeo",
        "colab_type": "text"
      },
      "source": [
        "\n",
        "\n",
        "---\n",
        "\n",
        "Functions\n",
        "\n",
        "\n",
        "---\n",
        "\n",
        "\n"
      ]
    },
    {
      "cell_type": "code",
      "metadata": {
        "id": "tH6YnL0a-Mi7",
        "colab_type": "code",
        "colab": {}
      },
      "source": [
        "class Earthquake:\n",
        "\n",
        "    def __init__(self, scenario_number, earthquake_csv=earthquake_csv):\n",
        "        # select a source area to trigger a rupture\n",
        "        e = random.choice(earthquake_sources)\n",
        "        # crop dataframe to the selected source\n",
        "        earthquake_df = earthquake_csv[['UID', 'B-value - pref', 'a-value']] # ! add \"a\" value later on\n",
        "        earthquake_df = earthquake_df[earthquake_df.UID = e]\n",
        "        # create the discrete frequency / magnitude distribution from the source selected\n",
        "        magnitudes = np.arange(0, 11, 0.1)\n",
        "        frequencies = 10**(earthquake_df['a_value']-(earthquake_df['B-value - pref']*magnitudes))\n",
        "        frequencies = frequencies / frequencies.sum() # make the probability of having an earthquake from 0 to 1\n",
        "        # select a random magnitude from the distribution \n",
        "        magnitude_RNG = np.random.choice(magnitudes, 1, p=frequencies)\n",
        "        # (back)find the recurrence time generated\n",
        "        magnitudes = magnitudes.to_list\n",
        "        index = magnitudes.index(magnitudes_RNG[0])\n",
        "        rec_time = 1/frequencies[index] # get the recurrence years - easier to np,interp if distribution is monotonicaly increasing\n",
        "        # return the specifics of the earthquake source\n",
        "        self.uid = earthquake_df.UID\n",
        "        self.magnitude = magnitude_RNG[0]\n",
        "        self.rec_time = rec_time[0]\n",
        "        self.scenario_number = scenario_number\n",
        "\n",
        "class EarthquakeGroundMotions(Earthquake):\n",
        "    def __init__(self, scenario_number: int, earthquake_csv=earthquake_csv, node_file=node_file_csv):\n",
        "      super(EarthquakeGroundMotions, self).__init__(scenario_number, earthquake_csv=earthquake_csv)\n",
        "      self.shaking_file = self.shake(scenario_number)\n",
        "\n",
        "    def Shaking(self):\n",
        "        # access the node file\n",
        "        nodes = pd.read_csv(self.node_file)\n",
        "        if self.uid.str.contains(\"Hik\")]:\n",
        "          recurrence_times = [1, 10, 100, 1000]\n",
        "          shaking_columns = ['PGA_1y', 'PGA_10y', 'PGA_100y', 'PGA_1000y']\n",
        "          # create a shaking value at each node based on the event recurrence time. faster solution here https://stackoverflow.com/questions/43765796/interpolating-values-from-a-dataframe-based-on-a-column-value\n",
        "          nodes['shaking'] = nodes.apply(lambda x: np.interp(self.rec_time, recurrence_times, [x.PGA_1y, x.PGA_10y, x.PGA_100y, x.PGA_1000y]), axis=1)\n",
        "        else :\n",
        "          nodes['shaking'] = 0\n",
        "        return nodes[['nodeID', 'shaking']]\n"
      ],
      "execution_count": 0,
      "outputs": []
    },
    {
      "cell_type": "code",
      "metadata": {
        "id": "2-nOSwSeHWrh",
        "colab_type": "code",
        "colab": {}
      },
      "source": [
        "class Tsunami:\n",
        "\n",
        "    def __init__(self, eq_uid, eq_magnitude, Bij):\n",
        "        self.eq_uid = earthquake_df.UID\n",
        "        self.magnitude = magnitude_RNG[0]\n",
        "        self.rec_time = rec_time[0]\n",
        "    # calculate Ht for all target areas (Bij) using the Earthquake Mw Ht = 10^Mw-Bij\n",
        "    # from the distance to shore value, calculate the Water depth Wd = (Ht*2) - (distance from shore in meters/400)"
      ],
      "execution_count": 0,
      "outputs": []
    },
    {
      "cell_type": "code",
      "metadata": {
        "id": "jbLUdsG8HTqf",
        "colab_type": "code",
        "colab": {}
      },
      "source": [
        "class Landslide(EarthquakeGroundMotions,Rainfall):\n",
        "    def __init__(self):\n",
        "        super(Landslide, self).__init__()\n",
        "        shaking_df = self.get_shaking()\n",
        "\n",
        "    def get_shaking(self):\n",
        "        return pd.read_csv(self.shaking_file)\n",
        "    # get the shaking at node location\n",
        "    # get the landslide suscpetibility\n",
        "    # sample from the area / volume relationship\n",
        "    # get a volume and runout + target node"
      ],
      "execution_count": 0,
      "outputs": []
    },
    {
      "cell_type": "markdown",
      "metadata": {
        "id": "nWIWSvkjxl8X",
        "colab_type": "text"
      },
      "source": [
        "1) random selection of the source earthquake location & sampling of the probability / intensity distribution (N = 10^(a-bMw))\n",
        "\n",
        "2) generation of tsunami based on the Bij value (Ht = 10^(Mw-Bij) & calculation of depth of inundation (Htx2 - decay)"
      ]
    }
  ]
}