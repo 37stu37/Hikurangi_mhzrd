{
  "nbformat": 4,
  "nbformat_minor": 0,
  "metadata": {
    "colab": {
      "name": "Untitled0.ipynb",
      "provenance": [],
      "authorship_tag": "ABX9TyMZLFZBzk5zf9zxfRNoJeZ1",
      "include_colab_link": true
    },
    "kernelspec": {
      "name": "python3",
      "display_name": "Python 3"
    }
  },
  "cells": [
    {
      "cell_type": "markdown",
      "metadata": {
        "id": "view-in-github",
        "colab_type": "text"
      },
      "source": [
        "<a href=\"https://colab.research.google.com/github/37stu37/Hikurangi_mhzrd/blob/master/mhzrd_hikurangi.ipynb\" target=\"_parent\"><img src=\"https://colab.research.google.com/assets/colab-badge.svg\" alt=\"Open In Colab\"/></a>"
      ]
    },
    {
      "cell_type": "code",
      "metadata": {
        "id": "0PipQ4HNTjKW",
        "colab_type": "code",
        "outputId": "eb8f843a-9fa4-42f7-829b-f598f86bb96a",
        "colab": {
          "base_uri": "https://localhost:8080/",
          "height": 34
        }
      },
      "source": [
        "# Load the Drive helper and mount\n",
        "from google.colab import drive\n",
        "\n",
        "# This will prompt for authorization.\n",
        "drive.mount('/content/drive')"
      ],
      "execution_count": 8,
      "outputs": [
        {
          "output_type": "stream",
          "text": [
            "Drive already mounted at /content/drive; to attempt to forcibly remount, call drive.mount(\"/content/drive\", force_remount=True).\n"
          ],
          "name": "stdout"
        }
      ]
    },
    {
      "cell_type": "code",
      "metadata": {
        "id": "w2mKdT8I0Wpu",
        "colab_type": "code",
        "colab": {}
      },
      "source": [
        "import pandas as pd\n",
        "import numpy as np\n",
        "import os\n",
        "import random"
      ],
      "execution_count": 0,
      "outputs": []
    },
    {
      "cell_type": "code",
      "metadata": {
        "id": "0u86LTRy0Ydr",
        "colab_type": "code",
        "colab": {}
      },
      "source": [
        "# raw data\n",
        "earthquake_csv = pd.read_excel('/content/drive/My Drive/04_Cloud/01_Work/GNS/SSIF_2019/6 Flagship_Hikurangi/tsunami_bathtub_model/SubductionSources_27June2019.xls')\n",
        "tsunami_csv = pd.read_csv('/content/drive/My Drive/04_Cloud/01_Work/GNS/SSIF_2019/6 Flagship_Hikurangi/tsunami_bathtub_model/BTable_20km_Hpct99_27June2019.csv')\n",
        "\n",
        "earthquake_sources = earthquake_csv.UID.to_list()"
      ],
      "execution_count": 0,
      "outputs": []
    },
    {
      "cell_type": "code",
      "metadata": {
        "id": "ZeOg3DGh37Hn",
        "colab_type": "code",
        "outputId": "ecb0feb0-aaac-4ce1-886b-1b70b529fa6e",
        "colab": {
          "base_uri": "https://localhost:8080/",
          "height": 185
        }
      },
      "source": [
        "earthquake_csv.head(1)"
      ],
      "execution_count": 11,
      "outputs": [
        {
          "output_type": "execute_result",
          "data": {
            "text/html": [
              "<div>\n",
              "<style scoped>\n",
              "    .dataframe tbody tr th:only-of-type {\n",
              "        vertical-align: middle;\n",
              "    }\n",
              "\n",
              "    .dataframe tbody tr th {\n",
              "        vertical-align: top;\n",
              "    }\n",
              "\n",
              "    .dataframe thead th {\n",
              "        text-align: right;\n",
              "    }\n",
              "</style>\n",
              "<table border=\"1\" class=\"dataframe\">\n",
              "  <thead>\n",
              "    <tr style=\"text-align: right;\">\n",
              "      <th></th>\n",
              "      <th>UID</th>\n",
              "      <th>Subduction Zone</th>\n",
              "      <th>Segment</th>\n",
              "      <th>Plate pairs</th>\n",
              "      <th>Left_E_LONG</th>\n",
              "      <th>Left_N_LAT</th>\n",
              "      <th>Left_REL_VEL</th>\n",
              "      <th>Left_REL_AZI</th>\n",
              "      <th>Right_E_LONG</th>\n",
              "      <th>Right_N_LAT</th>\n",
              "      <th>Right_REL_VEL</th>\n",
              "      <th>Right_REL_AZI</th>\n",
              "      <th>Length (km)</th>\n",
              "      <th>Dip - pref</th>\n",
              "      <th>Dip direction</th>\n",
              "      <th>Trench depth</th>\n",
              "      <th>Updip_pref</th>\n",
              "      <th>Updip_min</th>\n",
              "      <th>Updip_max</th>\n",
              "      <th>Down-dip depth - pref</th>\n",
              "      <th>Down-dip depth - min</th>\n",
              "      <th>Down-dip depth - max</th>\n",
              "      <th>Width - pref</th>\n",
              "      <th>Width - min</th>\n",
              "      <th>Width - max</th>\n",
              "      <th>Coupling coefficient - pref</th>\n",
              "      <th>Coupling coefficient - min</th>\n",
              "      <th>Coupling coefficient - max</th>\n",
              "      <th>SED (whole seg, m)</th>\n",
              "      <th>SED sigma</th>\n",
              "      <th>Mmax - pref</th>\n",
              "      <th>Mmax - min</th>\n",
              "      <th>Mmax - max</th>\n",
              "      <th>B-value - pref</th>\n",
              "      <th>B-value - min</th>\n",
              "      <th>B-value - max</th>\n",
              "    </tr>\n",
              "  </thead>\n",
              "  <tbody>\n",
              "    <tr>\n",
              "      <th>0</th>\n",
              "      <td>AK_D_Alaska_Whole</td>\n",
              "      <td>Alaska/Aleutians</td>\n",
              "      <td>Whole margin</td>\n",
              "      <td>PA\\NA</td>\n",
              "      <td>164.066</td>\n",
              "      <td>55.209</td>\n",
              "      <td>74.6</td>\n",
              "      <td>311</td>\n",
              "      <td>-140.128</td>\n",
              "      <td>60.381</td>\n",
              "      <td>49.0</td>\n",
              "      <td>350</td>\n",
              "      <td>4130</td>\n",
              "      <td>14</td>\n",
              "      <td>NaN</td>\n",
              "      <td>6.0</td>\n",
              "      <td>12.0</td>\n",
              "      <td>6.0</td>\n",
              "      <td>24.0</td>\n",
              "      <td>40</td>\n",
              "      <td>26</td>\n",
              "      <td>48</td>\n",
              "      <td>122</td>\n",
              "      <td>30</td>\n",
              "      <td>192</td>\n",
              "      <td>0.55</td>\n",
              "      <td>0.42</td>\n",
              "      <td>0.77</td>\n",
              "      <td>NaN</td>\n",
              "      <td>NaN</td>\n",
              "      <td>9.4</td>\n",
              "      <td>9.2</td>\n",
              "      <td>9.6</td>\n",
              "      <td>0.93</td>\n",
              "      <td>0.67</td>\n",
              "      <td>1.2</td>\n",
              "    </tr>\n",
              "  </tbody>\n",
              "</table>\n",
              "</div>"
            ],
            "text/plain": [
              "                 UID    Subduction Zone  ... B-value - min B-value - max\n",
              "0  AK_D_Alaska_Whole  Alaska/Aleutians   ...          0.67           1.2\n",
              "\n",
              "[1 rows x 36 columns]"
            ]
          },
          "metadata": {
            "tags": []
          },
          "execution_count": 11
        }
      ]
    },
    {
      "cell_type": "code",
      "metadata": {
        "id": "c9d0mlRX5x97",
        "colab_type": "code",
        "colab": {}
      },
      "source": [
        "### test\n",
        "# for i in range(1):\n",
        "#   e = random.choice(earthquake_sources)\n",
        "#   print(type(e))"
      ],
      "execution_count": 0,
      "outputs": []
    },
    {
      "cell_type": "markdown",
      "metadata": {
        "id": "JaLRCQLkHOeo",
        "colab_type": "text"
      },
      "source": [
        "Functions"
      ]
    },
    {
      "cell_type": "code",
      "metadata": {
        "id": "tH6YnL0a-Mi7",
        "colab_type": "code",
        "colab": {}
      },
      "source": [
        "def Earthquake():\n",
        "    # select a source area to trigger a rupture\n",
        "    e = random.choice(earthquake_sources)\n",
        "    ## sample the probability magnitude relationship log(N) = a-bM // N = 10^(a-bM) for the specific rupture source\n",
        "    # crop dataframe to the selected source area\n",
        "    earthquake_df = earthquake_csv[['UID', 'B-value - pref']] # ! add \"a\" value later on\n",
        "    earthquake_df = earthquake_df[earthquake_df.UID = e]\n",
        "    # create the discrete frequency / magnitude distribution from the source rupture\n",
        "    magnitudes = np.arange(0, 11, 1).tolist()\n",
        "    frequencies = 10**(earthquake_df['a_value']-earthquake_df['B-value - pref']*magnitudes)\n",
        "    # select a random magnitude from the distribution\n",
        "    magnitude_RNG = np.random.choice(magnitudes, 1, p=frequencies)\n",
        "    # (back)find the recurrence time generated\n",
        "    for i in [i for i,x in enumerate(magnitudes) if x == magnitudes_RNG]:\n",
        "        rec_time = frequencies[i]\n",
        "    # generate shaking from Openquake maps for all nodes (if from Hikurangi !)\n",
        "    shaking_values_at_nodes = []# get it from extracting pga values for different recurrence time from Openquake maps\n",
        "    recurrence_intervals = []# Quakecore models recurrence times"
      ],
      "execution_count": 0,
      "outputs": []
    },
    {
      "cell_type": "code",
      "metadata": {
        "id": "jbLUdsG8HTqf",
        "colab_type": "code",
        "colab": {}
      },
      "source": [
        "def Landslide():\n",
        "    # get the shaking at node location\n",
        "    # get the landslide suscpetibility\n",
        "    # sample from the area / volume relationship\n",
        "    # get a volume and runout + target node"
      ],
      "execution_count": 0,
      "outputs": []
    },
    {
      "cell_type": "code",
      "metadata": {
        "id": "2-nOSwSeHWrh",
        "colab_type": "code",
        "colab": {}
      },
      "source": [
        "def Tsunami():\n",
        "    # where is the source ?\n",
        "    # calculate Ht for all target areas (Bij) using the Earthquake Mw Ht = 10^Mw-Bij\n",
        "    # from the distance to shore value, calculate the Water depth Wd = (Ht*2) - (distance from shore in meters/400)"
      ],
      "execution_count": 0,
      "outputs": []
    },
    {
      "cell_type": "markdown",
      "metadata": {
        "id": "nWIWSvkjxl8X",
        "colab_type": "text"
      },
      "source": [
        "1) random selection of the source earthquake location & sampling of the probability / intensity distribution (N = 10^(a-bMw))\n",
        "\n",
        "2) generation of tsunami based on the Bij value (Ht = 10^(Mw-Bij) & calculation of depth of inundation (Htx2 - decay)"
      ]
    }
  ]
}