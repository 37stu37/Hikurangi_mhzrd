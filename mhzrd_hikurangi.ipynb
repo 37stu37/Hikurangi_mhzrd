{
  "nbformat": 4,
  "nbformat_minor": 0,
  "metadata": {
    "colab": {
      "name": "Untitled0.ipynb",
      "provenance": [],
      "authorship_tag": "ABX9TyM/uVyqeUnshBrp9INrSIux",
      "include_colab_link": true
    },
    "kernelspec": {
      "name": "python3",
      "display_name": "Python 3"
    }
  },
  "cells": [
    {
      "cell_type": "markdown",
      "metadata": {
        "id": "view-in-github",
        "colab_type": "text"
      },
      "source": [
        "<a href=\"https://colab.research.google.com/github/37stu37/Hikurangi_mhzrd/blob/master/mhzrd_hikurangi.ipynb\" target=\"_parent\"><img src=\"https://colab.research.google.com/assets/colab-badge.svg\" alt=\"Open In Colab\"/></a>"
      ]
    },
    {
      "cell_type": "code",
      "metadata": {
        "id": "0PipQ4HNTjKW",
        "colab_type": "code",
        "colab": {
          "base_uri": "https://localhost:8080/",
          "height": 122
        },
        "outputId": "fbfb0065-7032-43ef-b2fb-46898b40d7b1"
      },
      "source": [
        "# Load the Drive helper and mount\n",
        "from google.colab import drive\n",
        "\n",
        "# This will prompt for authorization.\n",
        "drive.mount('/content/drive')"
      ],
      "execution_count": 1,
      "outputs": [
        {
          "output_type": "stream",
          "text": [
            "Go to this URL in a browser: https://accounts.google.com/o/oauth2/auth?client_id=947318989803-6bn6qk8qdgf4n4g3pfee6491hc0brc4i.apps.googleusercontent.com&redirect_uri=urn%3aietf%3awg%3aoauth%3a2.0%3aoob&response_type=code&scope=email%20https%3a%2f%2fwww.googleapis.com%2fauth%2fdocs.test%20https%3a%2f%2fwww.googleapis.com%2fauth%2fdrive%20https%3a%2f%2fwww.googleapis.com%2fauth%2fdrive.photos.readonly%20https%3a%2f%2fwww.googleapis.com%2fauth%2fpeopleapi.readonly\n",
            "\n",
            "Enter your authorization code:\n",
            "··········\n",
            "Mounted at /content/drive\n"
          ],
          "name": "stdout"
        }
      ]
    },
    {
      "cell_type": "code",
      "metadata": {
        "id": "w2mKdT8I0Wpu",
        "colab_type": "code",
        "colab": {}
      },
      "source": [
        "import pandas as pd\n",
        "import numpy as np\n",
        "import os\n",
        "import random"
      ],
      "execution_count": 0,
      "outputs": []
    },
    {
      "cell_type": "code",
      "metadata": {
        "id": "0u86LTRy0Ydr",
        "colab_type": "code",
        "colab": {}
      },
      "source": [
        "# raw data\n",
        "earthquake_csv = pd.read_excel('/content/drive/My Drive/04_Cloud/01_Work/GNS/SSIF_2019/6 Flagship_Hikurangi/tsunami_bathtub_model/SubductionSources_27June2019.xls')\n",
        "tsunami_csv = pd.read_csv('/content/drive/My Drive/04_Cloud/01_Work/GNS/SSIF_2019/6 Flagship_Hikurangi/tsunami_bathtub_model/BTable_20km_Hpct99_27June2019.csv')\n",
        "\n",
        "earthquake_sources = earthquake_csv.UID.to_list()\n",
        "earthquake_sources"
      ],
      "execution_count": 0,
      "outputs": []
    },
    {
      "cell_type": "code",
      "metadata": {
        "id": "c9d0mlRX5x97",
        "colab_type": "code",
        "colab": {}
      },
      "source": [
        "### test\n",
        "for i in range(10):\n",
        "  e = random.choice(earthquake_sources)\n",
        "  print(e)"
      ],
      "execution_count": 0,
      "outputs": []
    },
    {
      "cell_type": "code",
      "metadata": {
        "id": "tH6YnL0a-Mi7",
        "colab_type": "code",
        "colab": {}
      },
      "source": [
        "# functions\n",
        "def Earthquake():\n",
        "    # select a source area to trigger an earthquake\n",
        "    earthquake_source = random.choice\n",
        "    # sample the probability magnitude relationship log(N) = a-bMw\n",
        "    # generate shaking from Openquake maps\n",
        "\n",
        "def Landslide():\n",
        "    # get the shaking at node location\n",
        "    # get the landslide suscpetibility\n",
        "    # sample from the area / volume relationship\n",
        "    # get a volume and runout + target node\n",
        "\n",
        "def Tsunami():\n",
        "    # where is the source ?\n",
        "    # calculate Ht for all target areas (Bij) using the Earthquake Mw Ht = 10^Mw-Bij\n",
        "    # from the distance to shore value, calculate the Water depth Wd = (Ht*2) - (distance from shore in meters/400)\n"
      ],
      "execution_count": 0,
      "outputs": []
    },
    {
      "cell_type": "markdown",
      "metadata": {
        "id": "nWIWSvkjxl8X",
        "colab_type": "text"
      },
      "source": [
        "1) random selection of the source earthquake location & sampling of the probability / intensity distribution (N = 10^(a-bMw))\n",
        "\n",
        "2) generation of tsunami based on the Bij value (Ht = 10^(Mw-Bij) & calculation of depth of inundation (Htx2 - decay)"
      ]
    }
  ]
}