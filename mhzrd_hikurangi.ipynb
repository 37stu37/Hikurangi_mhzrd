{
  "nbformat": 4,
  "nbformat_minor": 0,
  "metadata": {
    "colab": {
      "name": "Untitled0.ipynb",
      "provenance": [],
      "authorship_tag": "ABX9TyOczxHszBxq5N7pY0AFVJ+T",
      "include_colab_link": true
    },
    "kernelspec": {
      "name": "python3",
      "display_name": "Python 3"
    },
    "accelerator": "GPU"
  },
  "cells": [
    {
      "cell_type": "markdown",
      "metadata": {
        "id": "view-in-github",
        "colab_type": "text"
      },
      "source": [
        "<a href=\"https://colab.research.google.com/github/37stu37/Hikurangi_mhzrd/blob/master/mhzrd_hikurangi.ipynb\" target=\"_parent\"><img src=\"https://colab.research.google.com/assets/colab-badge.svg\" alt=\"Open In Colab\"/></a>"
      ]
    },
    {
      "cell_type": "code",
      "metadata": {
        "id": "0PipQ4HNTjKW",
        "colab_type": "code",
        "outputId": "6dbe72d6-d73e-406b-fafc-c3e5bb658b0b",
        "colab": {
          "base_uri": "https://localhost:8080/",
          "height": 122
        }
      },
      "source": [
        "# Load the Drive helper and mount\n",
        "from google.colab import drive\n",
        "\n",
        "# This will prompt for authorization.\n",
        "drive.mount('/content/drive')"
      ],
      "execution_count": 1,
      "outputs": [
        {
          "output_type": "stream",
          "text": [
            "Go to this URL in a browser: https://accounts.google.com/o/oauth2/auth?client_id=947318989803-6bn6qk8qdgf4n4g3pfee6491hc0brc4i.apps.googleusercontent.com&redirect_uri=urn%3aietf%3awg%3aoauth%3a2.0%3aoob&response_type=code&scope=email%20https%3a%2f%2fwww.googleapis.com%2fauth%2fdocs.test%20https%3a%2f%2fwww.googleapis.com%2fauth%2fdrive%20https%3a%2f%2fwww.googleapis.com%2fauth%2fdrive.photos.readonly%20https%3a%2f%2fwww.googleapis.com%2fauth%2fpeopleapi.readonly\n",
            "\n",
            "Enter your authorization code:\n",
            "··········\n",
            "Mounted at /content/drive\n"
          ],
          "name": "stdout"
        }
      ]
    },
    {
      "cell_type": "code",
      "metadata": {
        "id": "w2mKdT8I0Wpu",
        "colab_type": "code",
        "colab": {}
      },
      "source": [
        "import pandas as pd\n",
        "import numpy as np\n",
        "import os\n",
        "import random"
      ],
      "execution_count": 0,
      "outputs": []
    },
    {
      "cell_type": "code",
      "metadata": {
        "id": "0u86LTRy0Ydr",
        "colab_type": "code",
        "colab": {}
      },
      "source": [
        "# raw data\n",
        "earthquake_csv = pd.read_excel('/content/drive/My Drive/04_Cloud/01_Work/GNS/SSIF_2019/6 Flagship_Hikurangi/tsunami_bathtub_model/SubductionSources_27June2019.xls')\n",
        "tsunami_csv = pd.read_csv('/content/drive/My Drive/04_Cloud/01_Work/GNS/SSIF_2019/6 Flagship_Hikurangi/tsunami_bathtub_model/BTable_20km_Hpct99_27June2019.csv')\n",
        "# node_csv = pd.read_csv('/content/drive/My Drive/04_Cloud/01_Work/GNS/SSIF_2019/6 Flagship_Hikurangi/node.csv')\n",
        "earthquake_sources = earthquake_csv.UID.to_list()"
      ],
      "execution_count": 0,
      "outputs": []
    },
    {
      "cell_type": "code",
      "metadata": {
        "id": "c9d0mlRX5x97",
        "colab_type": "code",
        "colab": {}
      },
      "source": [
        "### test sampling random earthquake\n",
        "# for i in range(1):\n",
        "#   e = random.choice(earthquake_sources)\n",
        "#   print(type(e))"
      ],
      "execution_count": 0,
      "outputs": []
    },
    {
      "cell_type": "markdown",
      "metadata": {
        "id": "JaLRCQLkHOeo",
        "colab_type": "text"
      },
      "source": [
        "\n",
        "\n",
        "---\n",
        "\n",
        "Functions\n",
        "\n",
        "\n",
        "---\n",
        "\n",
        "\n"
      ]
    },
    {
      "cell_type": "code",
      "metadata": {
        "id": "tH6YnL0a-Mi7",
        "colab_type": "code",
        "colab": {}
      },
      "source": [
        "class Earthquake:\n",
        "    def __init__(self, scenario_number, earthquake_csv=earthquake_csv, earthquake_sources=earthquake_sources):\n",
        "        # select a source area to trigger a rupture\n",
        "        e = random.choice(earthquake_sources)\n",
        "        # crop dataframe to the selected source\n",
        "        earthquake_df = earthquake_csv[['UID', 'B-value - pref', 'a-value']] # ! add \"a\" value later on\n",
        "        earthquake_df = earthquake_df[earthquake_df.UID = e]\n",
        "        # create the discrete frequency / magnitude distribution from the source selected\n",
        "        magnitudes = np.arange(0, 11, 0.1)\n",
        "        frequencies = 10**(earthquake_df['a_value']-(earthquake_df['B-value - pref']*magnitudes))\n",
        "        frequencies = frequencies / frequencies.sum() # make the probability of having an earthquake from 0 to 1\n",
        "        # select a random magnitude from the distribution \n",
        "        magnitude_RNG = np.random.choice(magnitudes, 1, p=frequencies)\n",
        "        # (back)find the recurrence time generated\n",
        "        magnitudes = magnitudes.to_list\n",
        "        index = magnitudes.index(magnitudes_RNG[0])\n",
        "        rec_time = 1/frequencies[index] # get the recurrence years - easier to np,interp if distribution is monotonicaly increasing\n",
        "        # return the specifics of the earthquake source\n",
        "        self.uid = earthquake_df.UID\n",
        "        self.magnitude = magnitude_RNG[0]\n",
        "        self.rec_time = rec_time[0]\n",
        "        self.scenario_number = scenario_number\n",
        "\n",
        "class EarthquakeGroundMotions(Earthquake):\n",
        "    def __init__(self, scenario_number: int, earthquake_csv=earthquake_csv, node_file=node_file_csv):\n",
        "      super(EarthquakeGroundMotions, self).__init__(scenario_number, earthquake_csv=earthquake_csv, node_file=node_file_csv)\n",
        "      self.shaking = self.shake(scenario_number)\n",
        "\n",
        "    def shaking(self):\n",
        "        # access the node file\n",
        "        nodes = pd.read_csv(self.node_file)\n",
        "        if self.uid.str.contains(\"Hik\")]:\n",
        "          recurrence_times = [1, 10, 100, 1000]\n",
        "          shaking_columns = ['PGA_1y', 'PGA_10y', 'PGA_100y', 'PGA_1000y']\n",
        "          # create a shaking value at each node based on the event recurrence time. faster solution here https://stackoverflow.com/questions/43765796/interpolating-values-from-a-dataframe-based-on-a-column-value\n",
        "          nodes['shaking'] = nodes.apply(lambda row: np.interp(self.rec_time, recurrence_times, [row.PGA_1y, row.PGA_10y, row.PGA_100y, row.PGA_1000y]), axis=1)\n",
        "        else :\n",
        "          nodes['shaking'] = 0\n",
        "        return nodes[['nodeID', 'shaking']]"
      ],
      "execution_count": 0,
      "outputs": []
    },
    {
      "cell_type": "code",
      "metadata": {
        "id": "mO7sajQn3lCr",
        "colab_type": "code",
        "colab": {}
      },
      "source": [
        "class Rainfall:\n",
        "    def __init__(self, scenario_number, node_file=node_file_csv):\n",
        "        # select a rainfall event\n",
        "        recurrence_times = [1, 0.1, 0.01, 0.0001]\n",
        "        rainfall_intensities = ['RF_1y', 'RF_10y', 'RF_100y', 'RF_1000y']\n",
        "        magnitude_RNG = np.random.choice(rainfall_intensities, 1, p=recurrence_times)\n",
        "\n",
        "class EarthquakeGroundMotions(Earthquake):\n",
        "    def __init__(self, scenario_number: int, earthquake_csv=earthquake_csv, node_file=node_file_csv):\n",
        "      super(EarthquakeGroundMotions, self).__init__(scenario_number, earthquake_csv=earthquake_csv, node_file=node_file_csv)\n",
        "      self.shaking = self.shake(scenario_number)\n",
        "\n",
        "    def shaking(self):\n",
        "        # access the node file\n",
        "        nodes = pd.read_csv(self.node_file)\n",
        "        if self.uid.str.contains(\"Hik\")]:\n",
        "          recurrence_times = [1, 10, 100, 1000]\n",
        "          shaking_columns = ['PGA_1y', 'PGA_10y', 'PGA_100y', 'PGA_1000y']\n",
        "          # create a shaking value at each node based on the event recurrence time. faster solution here https://stackoverflow.com/questions/43765796/interpolating-values-from-a-dataframe-based-on-a-column-value\n",
        "          nodes['shaking'] = nodes.apply(lambda row: np.interp(self.rec_time, recurrence_times, [row.PGA_1y, row.PGA_10y, row.PGA_100y, row.PGA_1000y]), axis=1)\n",
        "        else :\n",
        "          nodes['shaking'] = 0\n",
        "        return nodes[['nodeID', 'shaking']]"
      ],
      "execution_count": 0,
      "outputs": []
    },
    {
      "cell_type": "code",
      "metadata": {
        "id": "2-nOSwSeHWrh",
        "colab_type": "code",
        "colab": {}
      },
      "source": [
        "class Tsunami(Earthquake):\n",
        "    def __init__(self, scenario_number: int, earthquake_csv=earthquake_csv, node_file=node_file_csv):\n",
        "      super(EarthquakeGroundMotions, self).__init__(scenario_number, earthquake_csv=earthquake_csv, node_file=node_file_csv)\n",
        "\n",
        "    def inundation(self):\n",
        "      nodes = pd.read_csv(self.node_file)\n",
        "      nodes['Ht'] = nodes.apply(lambda row: 10**(self.magnitude-row.Bij)), axis=1)\n",
        "      nodes['inundation_depth'] = (nodes['Ht']*2) - (nodes['distanceToShore']/400) # distance to shore in meters\n",
        "      return nodes[['nodeID', 'inundation_depth']]\n",
        "\n",
        "    # calculate Ht for all target areas (Bij) using the Earthquake Mw Ht = 10^Mw-Bij\n",
        "    # from the distance to shore value, calculate the Water depth Wd = (Ht*2) - (distance from shore in meters/400)"
      ],
      "execution_count": 0,
      "outputs": []
    },
    {
      "cell_type": "code",
      "metadata": {
        "id": "jbLUdsG8HTqf",
        "colab_type": "code",
        "colab": {}
      },
      "source": [
        "class Landslide(EarthquakeGroundMotions,Rainfall):\n",
        "    def __init__(self, scenario_number: int, node_file=node_file_csv):\n",
        "      super(EarthquakeGroundMotions, self).__init__(scenario_number, node_file=node_file_csv)\n",
        "\n",
        "    def landslideTrigger(self):\n",
        "      nodes = pd.read_csv(self.node_file)\n",
        "      nodes = nodes[nodes['type'] = 'landslide']\n",
        "      \n",
        "\n",
        "    # get the shaking at node location\n",
        "    # get the landslide suscpetibility\n",
        "    # sample from the area / volume relationship\n",
        "    # get a volume and runout + target node"
      ],
      "execution_count": 0,
      "outputs": []
    },
    {
      "cell_type": "markdown",
      "metadata": {
        "id": "nWIWSvkjxl8X",
        "colab_type": "text"
      },
      "source": [
        "1) random selection of the source earthquake location & sampling of the probability / intensity distribution (N = 10^(a-bMw))\n",
        "\n",
        "2) generation of tsunami based on the Bij value (Ht = 10^(Mw-Bij) & calculation of depth of inundation (Htx2 - decay)"
      ]
    }
  ]
}