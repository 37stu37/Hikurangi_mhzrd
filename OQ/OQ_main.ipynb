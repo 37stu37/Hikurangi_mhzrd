{
 "cells": [
  {
   "cell_type": "markdown",
   "metadata": {},
   "source": [
    "## Install OpenQuake"
   ]
  },
  {
   "cell_type": "code",
   "execution_count": 2,
   "metadata": {},
   "outputs": [
    {
     "name": "stdout",
     "output_type": "stream",
     "text": [
      "Requirement already satisfied: openquake.engine in /Users/alex/anaconda3/lib/python3.7/site-packages (3.9.0)\n",
      "Requirement already satisfied: setuptools in /Users/alex/anaconda3/lib/python3.7/site-packages (from openquake.engine) (49.6.0.post20200925)\n",
      "Requirement already satisfied: django<2.3,>=1.11 in /Users/alex/anaconda3/lib/python3.7/site-packages (from openquake.engine) (2.2.15)\n",
      "Requirement already satisfied: requests<2.23,>=2.20 in /Users/alex/anaconda3/lib/python3.7/site-packages (from openquake.engine) (2.22.0)\n",
      "Requirement already satisfied: pandas<1.1,>=0.25 in /Users/alex/anaconda3/lib/python3.7/site-packages (from openquake.engine) (1.0.5)\n",
      "Requirement already satisfied: numpy<1.19,>=1.16 in /Users/alex/anaconda3/lib/python3.7/site-packages (from openquake.engine) (1.18.5)\n",
      "Requirement already satisfied: toml in /Users/alex/anaconda3/lib/python3.7/site-packages (from openquake.engine) (0.10.1)\n",
      "Requirement already satisfied: matplotlib<3.2,>=1.5 in /Users/alex/anaconda3/lib/python3.7/site-packages (from openquake.engine) (3.1.3)\n",
      "Requirement already satisfied: pyzmq<18.2 in /Users/alex/anaconda3/lib/python3.7/site-packages (from openquake.engine) (18.1.1)\n",
      "Requirement already satisfied: h5py<2.10,>=2.9 in /Users/alex/anaconda3/lib/python3.7/site-packages (from openquake.engine) (2.9.0)\n",
      "Requirement already satisfied: scipy<1.5,>=1.3 in /Users/alex/.local/lib/python3.7/site-packages (from openquake.engine) (1.4.1)\n",
      "Requirement already satisfied: decorator>=4.3 in /Users/alex/anaconda3/lib/python3.7/site-packages (from openquake.engine) (4.4.2)\n",
      "Requirement already satisfied: psutil<5.7,>=2.0 in /Users/alex/anaconda3/lib/python3.7/site-packages (from openquake.engine) (5.6.7)\n",
      "Requirement already satisfied: shapely<1.8,>=1.3 in /Users/alex/anaconda3/lib/python3.7/site-packages (from openquake.engine) (1.7.0)\n",
      "Requirement already satisfied: docutils<0.15,>=0.11 in /Users/alex/anaconda3/lib/python3.7/site-packages (from openquake.engine) (0.14)\n",
      "Requirement already satisfied: PyYAML in /Users/alex/anaconda3/lib/python3.7/site-packages (from openquake.engine) (5.3.1)\n",
      "Requirement already satisfied: pyshp==1.2.3 in /Users/alex/anaconda3/lib/python3.7/site-packages (from openquake.engine) (1.2.3)\n",
      "Requirement already satisfied: pytz in /Users/alex/anaconda3/lib/python3.7/site-packages (from django<2.3,>=1.11->openquake.engine) (2020.1)\n",
      "Requirement already satisfied: sqlparse>=0.2.2 in /Users/alex/anaconda3/lib/python3.7/site-packages (from django<2.3,>=1.11->openquake.engine) (0.3.1)\n",
      "Requirement already satisfied: certifi>=2017.4.17 in /Users/alex/anaconda3/lib/python3.7/site-packages (from requests<2.23,>=2.20->openquake.engine) (2020.6.20)\n",
      "Requirement already satisfied: urllib3!=1.25.0,!=1.25.1,<1.26,>=1.21.1 in /Users/alex/anaconda3/lib/python3.7/site-packages (from requests<2.23,>=2.20->openquake.engine) (1.25.10)\n",
      "Requirement already satisfied: idna<2.9,>=2.5 in /Users/alex/anaconda3/lib/python3.7/site-packages (from requests<2.23,>=2.20->openquake.engine) (2.8)\n",
      "Requirement already satisfied: chardet<3.1.0,>=3.0.2 in /Users/alex/anaconda3/lib/python3.7/site-packages (from requests<2.23,>=2.20->openquake.engine) (3.0.4)\n",
      "Requirement already satisfied: python-dateutil>=2.6.1 in /Users/alex/anaconda3/lib/python3.7/site-packages (from pandas<1.1,>=0.25->openquake.engine) (2.8.1)\n",
      "Requirement already satisfied: cycler>=0.10 in /Users/alex/anaconda3/lib/python3.7/site-packages (from matplotlib<3.2,>=1.5->openquake.engine) (0.10.0)\n",
      "Requirement already satisfied: pyparsing!=2.0.4,!=2.1.2,!=2.1.6,>=2.0.1 in /Users/alex/anaconda3/lib/python3.7/site-packages (from matplotlib<3.2,>=1.5->openquake.engine) (2.4.7)\n",
      "Requirement already satisfied: kiwisolver>=1.0.1 in /Users/alex/anaconda3/lib/python3.7/site-packages (from matplotlib<3.2,>=1.5->openquake.engine) (1.2.0)\n",
      "Requirement already satisfied: six in /Users/alex/anaconda3/lib/python3.7/site-packages (from h5py<2.10,>=2.9->openquake.engine) (1.15.0)\n",
      "\u001b[31mERROR: Error while checking for conflicts. Please file an issue on pip's issue tracker: https://github.com/pypa/pip/issues/new\n",
      "Traceback (most recent call last):\n",
      "  File \"/Users/alex/anaconda3/lib/python3.7/site-packages/pip/_vendor/pkg_resources/__init__.py\", line 3021, in _dep_map\n",
      "    return self.__dep_map\n",
      "  File \"/Users/alex/anaconda3/lib/python3.7/site-packages/pip/_vendor/pkg_resources/__init__.py\", line 2815, in __getattr__\n",
      "    raise AttributeError(attr)\n",
      "AttributeError: _DistInfoDistribution__dep_map\n",
      "\n",
      "During handling of the above exception, another exception occurred:\n",
      "\n",
      "Traceback (most recent call last):\n",
      "  File \"/Users/alex/anaconda3/lib/python3.7/site-packages/pip/_vendor/pkg_resources/__init__.py\", line 3012, in _parsed_pkg_info\n",
      "    return self._pkg_info\n",
      "  File \"/Users/alex/anaconda3/lib/python3.7/site-packages/pip/_vendor/pkg_resources/__init__.py\", line 2815, in __getattr__\n",
      "    raise AttributeError(attr)\n",
      "AttributeError: _pkg_info\n",
      "\n",
      "During handling of the above exception, another exception occurred:\n",
      "\n",
      "Traceback (most recent call last):\n",
      "  File \"/Users/alex/anaconda3/lib/python3.7/site-packages/pip/_internal/commands/install.py\", line 535, in _determine_conflicts\n",
      "    return check_install_conflicts(to_install)\n",
      "  File \"/Users/alex/anaconda3/lib/python3.7/site-packages/pip/_internal/operations/check.py\", line 108, in check_install_conflicts\n",
      "    package_set, _ = create_package_set_from_installed()\n",
      "  File \"/Users/alex/anaconda3/lib/python3.7/site-packages/pip/_internal/operations/check.py\", line 50, in create_package_set_from_installed\n",
      "    package_set[name] = PackageDetails(dist.version, dist.requires())\n",
      "  File \"/Users/alex/anaconda3/lib/python3.7/site-packages/pip/_vendor/pkg_resources/__init__.py\", line 2736, in requires\n",
      "    dm = self._dep_map\n",
      "  File \"/Users/alex/anaconda3/lib/python3.7/site-packages/pip/_vendor/pkg_resources/__init__.py\", line 3023, in _dep_map\n",
      "    self.__dep_map = self._compute_dependencies()\n",
      "  File \"/Users/alex/anaconda3/lib/python3.7/site-packages/pip/_vendor/pkg_resources/__init__.py\", line 3032, in _compute_dependencies\n",
      "    for req in self._parsed_pkg_info.get_all('Requires-Dist') or []:\n",
      "  File \"/Users/alex/anaconda3/lib/python3.7/site-packages/pip/_vendor/pkg_resources/__init__.py\", line 3014, in _parsed_pkg_info\n",
      "    metadata = self.get_metadata(self.PKG_INFO)\n",
      "  File \"/Users/alex/anaconda3/lib/python3.7/site-packages/pip/_vendor/pkg_resources/__init__.py\", line 1420, in get_metadata\n",
      "    value = self._get(path)\n",
      "  File \"/Users/alex/anaconda3/lib/python3.7/site-packages/pip/_vendor/pkg_resources/__init__.py\", line 1616, in _get\n",
      "    with open(path, 'rb') as stream:\n",
      "FileNotFoundError: [Errno 2] No such file or directory: '/Users/alex/anaconda3/lib/python3.7/site-packages/retrying-1.3.3.dist-info/METADATA'\u001b[0m\n"
     ]
    }
   ],
   "source": [
    "# %%capture\n",
    "!pip install openquake.engine"
   ]
  },
  {
   "cell_type": "code",
   "execution_count": null,
   "metadata": {},
   "outputs": [],
   "source": [
    "import openquake\n",
    "import configparser\n",
    "import os\n",
    "from pathlib import Path\n",
    "import configparser"
   ]
  },
  {
   "cell_type": "code",
   "execution_count": null,
   "metadata": {},
   "outputs": [],
   "source": [
    "folder = Path.cwd()\n",
    "os.chdir(folder)"
   ]
  },
  {
   "cell_type": "code",
   "execution_count": null,
   "metadata": {},
   "outputs": [],
   "source": [
    "!oq engine --run job_EventBasedPSHA.ini --exports csv"
   ]
  }
 ],
 "metadata": {
  "kernelspec": {
   "display_name": "Python 3",
   "language": "python",
   "name": "python3"
  },
  "language_info": {
   "codemirror_mode": {
    "name": "ipython",
    "version": 3
   },
   "file_extension": ".py",
   "mimetype": "text/x-python",
   "name": "python",
   "nbconvert_exporter": "python",
   "pygments_lexer": "ipython3",
   "version": "3.7.7"
  }
 },
 "nbformat": 4,
 "nbformat_minor": 4
}
